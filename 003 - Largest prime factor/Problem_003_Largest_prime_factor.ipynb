{
 "cells": [
  {
   "cell_type": "markdown",
   "metadata": {},
   "source": [
    "# Largest prime factor"
   ]
  },
  {
   "cell_type": "code",
   "execution_count": 1,
   "metadata": {},
   "outputs": [
    {
     "data": {
      "text/plain": [
       "(True, 1)"
      ]
     },
     "execution_count": 1,
     "metadata": {},
     "output_type": "execute_result"
    }
   ],
   "source": [
    "import math\n",
    "\n",
    "\n",
    "def is_prime(n):\n",
    "    for i in range(2, int(math.sqrt(n)) + 1):\n",
    "        if n % i == 0:\n",
    "            return False, i\n",
    "\n",
    "    return True, n\n",
    "\n",
    "\n",
    "is_prime(1)"
   ]
  },
  {
   "cell_type": "code",
   "execution_count": 480,
   "metadata": {},
   "outputs": [
    {
     "ename": "IndentationError",
     "evalue": "expected an indented block after 'for' statement on line 52 (253389117.py, line 60)",
     "output_type": "error",
     "traceback": [
      "\u001b[1;36m  Cell \u001b[1;32mIn[480], line 60\u001b[1;36m\u001b[0m\n\u001b[1;33m    self.calculate_next_prime()\u001b[0m\n\u001b[1;37m    ^\u001b[0m\n\u001b[1;31mIndentationError\u001b[0m\u001b[1;31m:\u001b[0m expected an indented block after 'for' statement on line 52\n"
     ]
    }
   ],
   "source": [
    "# This is time-out in Test 4 and 5.\n",
    "import math\n",
    "\n",
    "\n",
    "def is_prime(num: int) -> bool:\n",
    "    if num < 2:\n",
    "        return False \n",
    "    \n",
    "    for i in range(2, int(math.sqrt(num) + 1) ):\n",
    "        if num % i == 0:\n",
    "            return False\n",
    "    \n",
    "    return True\n",
    "\n",
    "\n",
    "\n",
    "class PrimeHelper():\n",
    "    def __init__(self) -> None:\n",
    "        self.primes = []\n",
    "        self.last_prime = None\n",
    "\n",
    "    def calculate_next_prime(self):\n",
    "        if self.last_prime is None:\n",
    "            n = 0\n",
    "        else:\n",
    "            n = self.last_prime + 1\n",
    "        print(\"Welcome to calculate next prime!\")\n",
    "        print(f\"We start calculating from {n}\")\n",
    "        while True:\n",
    "            if is_prime(n):\n",
    "                self.primes.append(n)\n",
    "                self.last_prime = n\n",
    "                print(f\"Last prime: {self.last_prime}\")\n",
    "                return n\n",
    "            \n",
    "            n = n + 1\n",
    "\n",
    "\n",
    "    def get_next_prime(self):\n",
    "        while True:\n",
    "            yield self.calculate_next_prime()     \n",
    "\n",
    "\n",
    "    def get_largest_prime_factor(self, num: int):\n",
    "\n",
    "        calculated_primes = self.primes.copy()\n",
    "        print(f\"CALCULATED PRIMES: {calculated_primes}\")\n",
    "\n",
    "        largest_prime_factor = None\n",
    "        while num != 1:\n",
    "            if calculated_primes != []:\n",
    "                for prime in calculated_primes:\n",
    "                    \n",
    "                \n",
    "\n",
    "\n",
    "\n",
    "\n",
    "\n",
    "                self.calculate_next_prime()\n",
    "                calculated_primes = self.primes.copy()\n",
    "                print(f\"CALCULATED PRIMES: {calculated_primes}\")\n",
    "    \n",
    "            for prime in calculated_primes:\n",
    "                print(f\"Current calculated prime: {prime}\")\n",
    "                if num % prime == 0:\n",
    "                    num = num // prime\n",
    "                    print(\"\")\n",
    "                    largest_prime_factor = prime\n",
    "                    calculated_primes.pop(prime)\n",
    "                    if calculated_primes == []:\n",
    "                        calculated_primes.append(self.calculate_next_prime())\n",
    "\n",
    "            if num > 500:\n",
    "                break\n",
    "        \n",
    "        return largest_prime_factor\n",
    "\n",
    "\n",
    "\n",
    "        # while num != 1:\n",
    "        #     if self.last_prime is not None:\n",
    "        #         calculated_primes = self.primes.copy()\n",
    "        #         for prime in calculated_primes:\n",
    "        #             if num % prime == 0:\n",
    "        #                 num = num // prime\n",
    "        #                 largest_prime_factor = prime\n",
    "        #                 calculated_primes.pop(prime)\n",
    "                    \n",
    "            \n",
    "        # return largest_prime_factor\n",
    "                \n",
    "\n",
    "\n",
    "\n",
    "ph = PrimeHelper()\n",
    "\n",
    "# print(ph.calculate_prime_factors_of(13195))\n",
    "print(ph.get_largest_prime_factor(7))\n",
    "# print(ph.calculate_prime_factors_of(5))"
   ]
  },
  {
   "cell_type": "code",
   "execution_count": 482,
   "metadata": {},
   "outputs": [
    {
     "name": "stdout",
     "output_type": "stream",
     "text": [
      "[]\n",
      "Welcome to calculate next prime!\n",
      "We start calculating from 0\n",
      "Last prime: 2\n",
      "[2]\n"
     ]
    }
   ],
   "source": [
    "ph = PrimeHelper()\n",
    "print(ph.primes)\n",
    "\n",
    "ph.calculate_next_prime()\n",
    "print(ph.primes)\n",
    "\n",
    "ph.get_next_prime()"
   ]
  },
  {
   "cell_type": "code",
   "execution_count": 483,
   "metadata": {},
   "outputs": [
    {
     "ename": "TypeError",
     "evalue": "'NoneType' object is not an iterator",
     "output_type": "error",
     "traceback": [
      "\u001b[1;31m---------------------------------------------------------------------------\u001b[0m",
      "\u001b[1;31mTypeError\u001b[0m                                 Traceback (most recent call last)",
      "Cell \u001b[1;32mIn[483], line 1\u001b[0m\n\u001b[1;32m----> 1\u001b[0m \u001b[39mnext\u001b[39;49m(ph\u001b[39m.\u001b[39;49mget_next_prime())\n",
      "\u001b[1;31mTypeError\u001b[0m: 'NoneType' object is not an iterator"
     ]
    }
   ],
   "source": [
    "next(ph.get_next_prime())"
   ]
  },
  {
   "cell_type": "code",
   "execution_count": 477,
   "metadata": {},
   "outputs": [
    {
     "name": "stdout",
     "output_type": "stream",
     "text": [
      "Welcome to calculate next prime!\n",
      "We start calculating from 6\n",
      "Last prime: 7\n",
      "7\n"
     ]
    }
   ],
   "source": [
    "ph.calculate_next_prime()\n",
    "print(ph.primes[-1])"
   ]
  },
  {
   "cell_type": "code",
   "execution_count": 452,
   "metadata": {},
   "outputs": [
    {
     "ename": "AttributeError",
     "evalue": "'PrimeHelper' object has no attribute 'calculate_prime_factors_of'",
     "output_type": "error",
     "traceback": [
      "\u001b[1;31m---------------------------------------------------------------------------\u001b[0m",
      "\u001b[1;31mAttributeError\u001b[0m                            Traceback (most recent call last)",
      "Cell \u001b[1;32mIn[452], line 1\u001b[0m\n\u001b[1;32m----> 1\u001b[0m ph\u001b[39m.\u001b[39;49mcalculate_prime_factors_of(\u001b[39m6\u001b[39m)\n\u001b[0;32m      2\u001b[0m \u001b[39mprint\u001b[39m(ph\u001b[39m.\u001b[39mprimes)\n",
      "\u001b[1;31mAttributeError\u001b[0m: 'PrimeHelper' object has no attribute 'calculate_prime_factors_of'"
     ]
    }
   ],
   "source": [
    "ph.calculate_prime_factors_of(6)\n",
    "print(ph.primes)"
   ]
  },
  {
   "cell_type": "code",
   "execution_count": 53,
   "metadata": {},
   "outputs": [
    {
     "name": "stdout",
     "output_type": "stream",
     "text": [
      "[2, 3, 5, 7, 11, 13, 17]\n"
     ]
    }
   ],
   "source": [
    "ph.calculate_prime_factors_of(11)\n",
    "print(ph.primes)"
   ]
  },
  {
   "cell_type": "code",
   "execution_count": null,
   "metadata": {},
   "outputs": [],
   "source": [
    "n = 13195\n",
    "\n",
    "def largest_prime(n):\n",
    "    for i in range()"
   ]
  },
  {
   "cell_type": "code",
   "execution_count": 56,
   "metadata": {},
   "outputs": [
    {
     "data": {
      "text/plain": [
       "2639"
      ]
     },
     "execution_count": 56,
     "metadata": {},
     "output_type": "execute_result"
    }
   ],
   "source": [
    "13195 // 5"
   ]
  },
  {
   "cell_type": "code",
   "execution_count": 57,
   "metadata": {},
   "outputs": [
    {
     "data": {
      "text/plain": [
       "377"
      ]
     },
     "execution_count": 57,
     "metadata": {},
     "output_type": "execute_result"
    }
   ],
   "source": [
    "13195 // 5 // 7"
   ]
  },
  {
   "cell_type": "code",
   "execution_count": null,
   "metadata": {},
   "outputs": [],
   "source": []
  },
  {
   "cell_type": "code",
   "execution_count": null,
   "metadata": {},
   "outputs": [],
   "source": []
  },
  {
   "cell_type": "code",
   "execution_count": null,
   "metadata": {},
   "outputs": [],
   "source": []
  },
  {
   "cell_type": "code",
   "execution_count": null,
   "metadata": {},
   "outputs": [],
   "source": []
  },
  {
   "cell_type": "code",
   "execution_count": null,
   "metadata": {},
   "outputs": [],
   "source": []
  }
 ],
 "metadata": {
  "kernelspec": {
   "display_name": "MyVenv",
   "language": "python",
   "name": "python3"
  },
  "language_info": {
   "codemirror_mode": {
    "name": "ipython",
    "version": 3
   },
   "file_extension": ".py",
   "mimetype": "text/x-python",
   "name": "python",
   "nbconvert_exporter": "python",
   "pygments_lexer": "ipython3",
   "version": "3.10.6"
  },
  "orig_nbformat": 4
 },
 "nbformat": 4,
 "nbformat_minor": 2
}
