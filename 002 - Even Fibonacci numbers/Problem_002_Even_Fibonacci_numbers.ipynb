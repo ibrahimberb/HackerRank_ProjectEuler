{
 "cells": [
  {
   "cell_type": "markdown",
   "metadata": {},
   "source": [
    "# Even Fibonacci Numbers"
   ]
  },
  {
   "cell_type": "code",
   "execution_count": 24,
   "metadata": {},
   "outputs": [
    {
     "name": "stdout",
     "output_type": "stream",
     "text": [
      "8\n",
      "44\n"
     ]
    }
   ],
   "source": [
    "# class Memory:\n",
    "#     def __init__(self):\n",
    "#         self.a = 0\n",
    "#         self.b = 0\n",
    "#         self.memory = {}\n",
    "\n",
    "#     def add(self, key: int, value: int):\n",
    "#         if key > self.a:\n",
    "#             self.a = key\n",
    "\n",
    "#         self.memory[key] = value\n",
    "\n",
    "#     def __repr__(self) -> str:\n",
    "#         return self.memory.__repr__()\n",
    "\n",
    "\n",
    "last_fib = 1\n",
    "last_second_fib = 0\n",
    "last_fib_value = 1\n",
    "last_second_fib_value = 0\n",
    "memory = {}\n",
    "\n",
    "\n",
    "# def get_fib(n: int, memory: dict):\n",
    "#     if n == 0 or n == 1:\n",
    "#         return 1\n",
    "\n",
    "#     if n in memory:\n",
    "#         print(f\"Bringing it from memory (fib={n})\")\n",
    "#         return memory[n]\n",
    "\n",
    "#     memory[n] = get_fib(n - 1, memory) + get_fib(n - 2, memory)\n",
    "#     return memory[n]\n",
    "\n",
    "\n",
    "def get_fib(\n",
    "    n: int,\n",
    "    memory: dict,\n",
    ") -> int:\n",
    "\n",
    "    global last_fib\n",
    "    global last_second_fib\n",
    "    global last_fib_value\n",
    "    global last_second_fib_value\n",
    "\n",
    "    if n in memory:  # n <= last_fib:\n",
    "        # print(f\"Bringing it from memory (fib={n})\")\n",
    "        return memory[n]\n",
    "\n",
    "    new_value = 0\n",
    "    for fib in range(last_fib + 1, n + 1):\n",
    "        new_value = last_fib_value + last_second_fib_value\n",
    "        last_second_fib_value = last_fib_value\n",
    "        last_fib_value = new_value\n",
    "        last_fib = fib\n",
    "        # print(f\"memory[{fib}] = {new_value}\")\n",
    "        memory[fib] = new_value\n",
    "\n",
    "    return new_value\n",
    "\n",
    "\n",
    "def even_fib(N):\n",
    "    total = 0\n",
    "    fib_val = 0\n",
    "    i = 1\n",
    "    while True:\n",
    "        fib_val = get_fib(i, memory=memory)\n",
    "        if fib_val > N:\n",
    "            break\n",
    "        # print(f\"{fib_val=}\")\n",
    "        if fib_val % 2 == 0:\n",
    "            # print(\" > even\")\n",
    "            total = total + fib_val\n",
    "        i = i + 1\n",
    "\n",
    "    return total\n",
    "\n",
    "\n",
    "# print(get_fib(10, memory))\n",
    "# print(get_fib(n=10, memory=memory))\n",
    "\n",
    "\n",
    "print(get_fib(n=6, memory=memory))\n",
    "\n",
    "# print(get_fib(n=5, memory=memory))\n",
    "\n",
    "print(even_fib(100))\n"
   ]
  },
  {
   "cell_type": "code",
   "execution_count": null,
   "metadata": {},
   "outputs": [],
   "source": []
  },
  {
   "cell_type": "code",
   "execution_count": null,
   "metadata": {},
   "outputs": [],
   "source": []
  },
  {
   "cell_type": "code",
   "execution_count": null,
   "metadata": {},
   "outputs": [],
   "source": []
  }
 ],
 "metadata": {
  "kernelspec": {
   "display_name": "MyVenv",
   "language": "python",
   "name": "python3"
  },
  "language_info": {
   "codemirror_mode": {
    "name": "ipython",
    "version": 3
   },
   "file_extension": ".py",
   "mimetype": "text/x-python",
   "name": "python",
   "nbconvert_exporter": "python",
   "pygments_lexer": "ipython3",
   "version": "3.10.4"
  },
  "orig_nbformat": 4
 },
 "nbformat": 4,
 "nbformat_minor": 2
}
