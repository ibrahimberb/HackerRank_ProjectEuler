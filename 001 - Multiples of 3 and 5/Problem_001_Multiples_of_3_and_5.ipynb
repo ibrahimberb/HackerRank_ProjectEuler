{
 "cells": [
  {
   "cell_type": "markdown",
   "metadata": {},
   "source": [
    "# Problem 1: Multiples of 3 and 5"
   ]
  },
  {
   "cell_type": "markdown",
   "metadata": {},
   "source": [
    "This is very naive way of solving the question, which is not accepted."
   ]
  },
  {
   "cell_type": "code",
   "execution_count": 2,
   "metadata": {},
   "outputs": [
    {
     "data": {
      "text/plain": [
       "23"
      ]
     },
     "execution_count": 2,
     "metadata": {},
     "output_type": "execute_result"
    }
   ],
   "source": [
    "def sum_multiples_of_3_or_5(num):\n",
    "    total = 0\n",
    "    for i in range(num):\n",
    "        if i % 3 == 0 or i % 5 == 0:\n",
    "            total += i\n",
    "\n",
    "    return total\n",
    "\n",
    "\n",
    "sum_multiples_of_3_or_5(10)\n"
   ]
  },
  {
   "attachments": {},
   "cell_type": "markdown",
   "metadata": {},
   "source": [
    "$$ \\text{average} \\times \\text{number of terms} $$"
   ]
  },
  {
   "cell_type": "code",
   "execution_count": 75,
   "metadata": {},
   "outputs": [
    {
     "data": {
      "text/plain": [
       "23"
      ]
     },
     "execution_count": 75,
     "metadata": {},
     "output_type": "execute_result"
    }
   ],
   "source": [
    "def quick_sum(num, div):\n",
    "    \"\"\"\n",
    "    Sum of a series: average * number of terms\n",
    "    \"\"\"\n",
    "    first_num = div\n",
    "    last_num = num - 1\n",
    "\n",
    "    # substract 1 until it is divisible by div to find the last term.\n",
    "    while last_num % div != 0:\n",
    "        last_num = last_num - 1\n",
    "\n",
    "    average_doubled = last_num + first_num\n",
    "    n_terms = (last_num - first_num) // div + 1\n",
    "    total = (average_doubled * n_terms) >> 1\n",
    "    # print(\"first_num: \", first_num)\n",
    "    # print(\"last_num: \", last_num)\n",
    "    # print(\"average: \", average_doubled)\n",
    "    # print(\"n_terms: \", n_terms)\n",
    "\n",
    "    return total\n",
    "\n",
    "\n",
    "def sum_multiples_of_3_or_5(num):\n",
    "    return quick_sum(num, 3) + quick_sum(num, 5) - quick_sum(num, 15)\n",
    "\n",
    "\n",
    "sum_multiples_of_3_or_5(10)\n"
   ]
  },
  {
   "cell_type": "code",
   "execution_count": 76,
   "metadata": {},
   "outputs": [
    {
     "name": "stdout",
     "output_type": "stream",
     "text": [
      "23\n"
     ]
    }
   ],
   "source": [
    "print(sum_multiples_of_3_or_5(10))"
   ]
  },
  {
   "cell_type": "code",
   "execution_count": null,
   "metadata": {},
   "outputs": [],
   "source": []
  }
 ],
 "metadata": {
  "kernelspec": {
   "display_name": "MyVenv",
   "language": "python",
   "name": "python3"
  },
  "language_info": {
   "codemirror_mode": {
    "name": "ipython",
    "version": 3
   },
   "file_extension": ".py",
   "mimetype": "text/x-python",
   "name": "python",
   "nbconvert_exporter": "python",
   "pygments_lexer": "ipython3",
   "version": "3.10.4"
  },
  "orig_nbformat": 4
 },
 "nbformat": 4,
 "nbformat_minor": 2
}
